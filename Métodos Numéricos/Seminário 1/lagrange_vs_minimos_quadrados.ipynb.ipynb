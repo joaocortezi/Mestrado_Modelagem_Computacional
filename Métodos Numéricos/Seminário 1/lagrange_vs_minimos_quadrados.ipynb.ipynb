{
 "cells": [
  {
   "cell_type": "markdown",
   "id": "aa537d81-45fe-4cb4-a3e7-ab7df435a02a",
   "metadata": {},
   "source": [
    "# Trabalho No 2: 2025-1\n",
    "Disciplina: Métodos numéricos para equações diferenciais parciais"
   ]
  },
  {
   "cell_type": "markdown",
   "id": "44afcd81-ef02-4d0b-95a3-68835bbf3d8d",
   "metadata": {},
   "source": [
    "## Objetivo da Comparação\n",
    "\n",
    "Ao aplicar ambos os métodos, os polinômios obtidos devem coincidir neste caso específico. A comparação serve para:\n",
    "\n",
    "- Verificar a equivalência dos métodos em condições ideais (grau + 1 pontos).\n",
    "- Entender que para conjuntos maiores, os resultados divergem: **interpolação continua tentando passar por todos os pontos**, enquanto **mínimos quadrados suavizam o ajuste**.\n",
    "\n",
    "---\n",
    "\n",
    "## Forma Geral Esperada\n",
    "\n",
    "O polinômio quadrático terá a forma: $p(x) = ax^2 + bx + c$. Os coeficientes \\(a\\), \\(b\\), e \\(c\\) serão determinados via cada método e comparados."
   ]
  },
  {
   "cell_type": "markdown",
   "id": "2c08b432-a224-49b3-a3fd-a86deb4ce878",
   "metadata": {},
   "source": [
    "## Implementação dos Métodos\n",
    "\n",
    "A seguir, implementamos dois métodos para encontrar o polinômio quadrático que representa os dados fornecidos:\n",
    "\n",
    "1. **Interpolação Polinomial (Lagrange)** — Calcula um polinômio que passa exatamente por todos os pontos.\n",
    "2. **Ajuste por Mínimos Quadrados (Regressão)** — Encontra um polinômio que melhor se ajusta aos dados minimizando o erro quadrático total.\n",
    "\n",
    "Ambos os métodos serão comparados graficamente e simbolicamente."
   ]
  },
  {
   "cell_type": "markdown",
   "id": "dbc6aa54-2e46-44d1-ac0f-1efa4ca880e5",
   "metadata": {},
   "source": [
    "## 1. Importação das bibliotecas"
   ]
  },
  {
   "cell_type": "code",
   "execution_count": 5,
   "id": "12f0b8fd-515a-457f-a997-f87318f81e31",
   "metadata": {},
   "outputs": [],
   "source": [
    "import numpy as np                      # Operações numéricas e vetoriais\n",
    "import matplotlib.pyplot as plt        # Geração de gráficos\n",
    "from sympy import symbols, simplify    # Manipulação simbólica para interpolação"
   ]
  },
  {
   "cell_type": "markdown",
   "id": "7215dd3f-3f2e-4157-8947-debb96fc0366",
   "metadata": {},
   "source": [
    "## 2. Definição do sistema e explicações teóricas"
   ]
  },
  {
   "cell_type": "code",
   "execution_count": 7,
   "id": "4463aa53-8b90-4740-8881-f8bdbf3cc2cf",
   "metadata": {},
   "outputs": [],
   "source": [
    "# Dados\n",
    "# Cada par (x, y) representa um ponto que o polinômio deve ajustar\n",
    "x_vals = np.array([0, 3, 4])\n",
    "y_vals = np.array([4, 2, 4])"
   ]
  },
  {
   "cell_type": "markdown",
   "id": "23f2fb0f-7fc3-4cdb-addc-124d019799b3",
   "metadata": {},
   "source": [
    "### 2.1. MÉTODO 1: MÍNIMOS QUADRADOS"
   ]
  },
  {
   "cell_type": "markdown",
   "id": "31b48819-e034-49d1-a2b9-c5f557185475",
   "metadata": {},
   "source": [
    "#### Ajuste por Mínimos Quadrados\n",
    "\n",
    "Utilizamos a função `np.polyfit(x_vals, y_vals, 2)` para ajustar um polinômio de grau 2 (quadrático) aos dados.  \n",
    "Ela retorna os coeficientes $a$, $b$, $c$ do polinômio:\n",
    "\n",
    "$$\n",
    "p(x) = ax^2 + bx + c\n",
    "$$\n",
    "\n",
    "Esse polinômio é o que **melhor se ajusta aos pontos fornecidos**, no sentido de **minimizar o erro quadrático total**.\n",
    "\n",
    "---\n",
    "\n",
    "#### O que é um Polinômio Quadrático?\n",
    "\n",
    "Um polinômio quadrático é definido como um polinômio de **grau 2**, e tem a forma:\n",
    "\n",
    "$$\n",
    "p(x) = ax^2 + bx + c\n",
    "$$\n",
    "\n",
    "Onde:\n",
    "- $a \\ne 0$ para garantir que o grau realmente seja 2,\n",
    "- $b$ e $c$ podem ser quaisquer números reais.\n",
    "\n",
    "---\n",
    "\n",
    "#### Problema de Otimização\n",
    "\n",
    "A função `polyfit` resolve internamente o seguinte problema de mínimos quadrados:\n",
    "\n",
    "$$\n",
    "\\min_{a, b, c} \\sum_{i=0}^{n} \\left( y_i - (a x_i^2 + b x_i + c) \\right)^2\n",
    "$$\n",
    "\n",
    "Ou seja, encontra os coeficientes que minimizam a soma dos erros quadráticos entre os valores observados e os valores previstos pelo modelo."
   ]
  },
  {
   "cell_type": "code",
   "execution_count": 10,
   "id": "f9a104e7-3e90-489a-a671-2776e459047a",
   "metadata": {},
   "outputs": [],
   "source": [
    "# Ajuste polinomial de grau 2 (mínimos quadrados)\n",
    "coefs_ls = np.polyfit(x_vals, y_vals, 2)  # coefs em ordem decrescente\n",
    "p_ls = np.poly1d(coefs_ls)"
   ]
  },
  {
   "cell_type": "code",
   "execution_count": 11,
   "id": "e8071d7d-4d4f-496c-9fff-aac7695b8278",
   "metadata": {},
   "outputs": [
    {
     "name": "stdout",
     "output_type": "stream",
     "text": [
      "        2\n",
      "0.6667 x - 2.667 x + 4\n"
     ]
    }
   ],
   "source": [
    "print(p_ls)"
   ]
  },
  {
   "cell_type": "markdown",
   "id": "7582be49-9466-48af-9eee-2c97387540bb",
   "metadata": {},
   "source": [
    "### 2.2. Método 2: Interpolação Polinomial de Lagrange"
   ]
  },
  {
   "cell_type": "markdown",
   "id": "4f156124-f6a7-4611-a0ba-cc70804a553e",
   "metadata": {},
   "source": [
    "#### Interpolação Polinomial\n",
    "\n",
    "A interpolação polinomial consiste em encontrar um polinômio que **passa exatamente por todos os pontos fornecidos**.\n",
    "\n",
    "Dado um conjunto de $n+1$ pontos distintos:\n",
    "\n",
    "$$\n",
    "(x_0, y_0), (x_1, y_1), \\dots, (x_n, y_n)\n",
    "$$\n",
    "\n",
    "Existe um único polinômio de grau $n$ que satisfaz:\n",
    "\n",
    "$$\n",
    "P(x_i) = y_i, \\quad \\text{para } i = 0, 1, \\dots, n\n",
    "$$\n",
    "\n",
    "---\n",
    "\n",
    "#### Forma do Polinômio Interpolador\n",
    "\n",
    "O polinômio pode ser escrito na forma de **Lagrange**:\n",
    "\n",
    "$$\n",
    "P(x) = \\sum_{j=0}^{n} y_j \\cdot L_j(x)\n",
    "$$\n",
    "\n",
    "Onde cada $L_j(x)$ é o **polinômio de base de Lagrange**, definido por:\n",
    "\n",
    "$$\n",
    "L_j(x) = \\prod_{\\substack{0 \\leq m \\leq n \\\\\\\\ m \\ne j}} \\frac{x - x_m}{x_j - x_m}\n",
    "$$\n",
    "\n",
    "---\n",
    "\n",
    "#### Características\n",
    "\n",
    "- O polinômio interpolador **passa por todos os pontos exatamente**.\n",
    "- Útil para funções conhecidas em pontos discretos.\n",
    "- Para poucos pontos, é eficiente; para muitos pontos, pode apresentar oscilações (fenômeno de Runge).\n",
    "\n",
    "---\n",
    "\n",
    "#### Observação\n",
    "\n",
    "Diferente do ajuste por mínimos quadrados, a interpolação **não minimiza o erro global**, mas sim força o polinômio a passar exatamente pelos dados."
   ]
  },
  {
   "cell_type": "code",
   "execution_count": 14,
   "id": "6dd7f374-534d-458a-8606-6e39e8c24c38",
   "metadata": {},
   "outputs": [],
   "source": [
    "def lagrange_interpolacao(x_data, y_data):\n",
    "    x = symbols('x')\n",
    "    n = len(x_data)\n",
    "    L = 0\n",
    "    for i in range(n):\n",
    "        xi, yi = x_data[i], y_data[i]\n",
    "        termo = yi\n",
    "        for j in range(n):\n",
    "            if i != j:\n",
    "                xj = x_data[j]\n",
    "                termo *= (x - xj) / (xi - xj)\n",
    "        L += termo\n",
    "    return simplify(L)"
   ]
  },
  {
   "cell_type": "code",
   "execution_count": 15,
   "id": "529d5e83-bf34-4e99-9250-b4f4aede6090",
   "metadata": {},
   "outputs": [],
   "source": [
    "p_interp = lagrange_interpolacao(x_vals, y_vals)"
   ]
  },
  {
   "cell_type": "markdown",
   "id": "77f3de11-097d-4126-9a97-6d3fcfa3b922",
   "metadata": {},
   "source": [
    "# Resultados"
   ]
  },
  {
   "cell_type": "markdown",
   "id": "f402037e-c672-40f3-89a7-4a3a8d62b880",
   "metadata": {},
   "source": [
    "O polinômio ajustado por mínimos quadrados é impresso a partir de `np.poly1d`, que mostra a expressão algébrica do polinômio no formato:\n",
    "\n",
    "$$\n",
    "p(x) = ax^2 + bx + c\n",
    "$$\n",
    "\n",
    "Além disso, a comparação gráfica com a interpolação polinomial mostra que ambos os métodos coincidem neste caso, pois temos exatamente três pontos e estamos ajustando um polinômio de grau 2."
   ]
  },
  {
   "cell_type": "code",
   "execution_count": 18,
   "id": "9ecaa6b6-508c-4e06-a7dd-7c2671fa5bb4",
   "metadata": {},
   "outputs": [],
   "source": [
    "# Avaliação nos mesmos pontos\n",
    "x_plot = np.linspace(min(x_vals)-1, max(x_vals)+1, 100)\n",
    "y_interp = [p_interp.evalf(subs={symbols('x'): val}) for val in x_plot]\n",
    "y_ls = p_ls(x_plot)"
   ]
  },
  {
   "cell_type": "code",
   "execution_count": 19,
   "id": "f30742c4-fe98-49f8-89b6-f4d8d1ca3454",
   "metadata": {},
   "outputs": [
    {
     "data": {
      "image/png": "[encoded data removed]",
      "text/plain": [
       "<Figure size 800x500 with 1 Axes>"
      ]
     },
     "metadata": {},
     "output_type": "display_data"
    }
   ],
   "source": [
    "# Plot\n",
    "# -----------------------------\n",
    "plt.figure(figsize=(8,5))\n",
    "plt.plot(x_plot, y_interp, label='Interpolação (Lagrange)', linestyle='--')\n",
    "plt.plot(x_plot, y_ls, label='Mínimos Quadrados', linestyle=':')\n",
    "plt.scatter(x_vals, y_vals, color='red', label='Pontos dados')\n",
    "plt.legend()\n",
    "plt.title('Comparação: Interpolação vs Mínimos Quadrados')\n",
    "plt.xlabel('x')\n",
    "plt.ylabel('y')\n",
    "plt.grid(True)\n",
    "plt.show()"
   ]
  },
  {
   "cell_type": "code",
   "execution_count": 20,
   "id": "0049aff7-69fd-4516-abd2-ee5bd7566ecf",
   "metadata": {},
   "outputs": [
    {
     "name": "stdout",
     "output_type": "stream",
     "text": [
      "Polinômio por Interpolação (Lagrange):\n",
      "  2*x**2/3 - 8*x/3 + 4\n",
      "\n",
      "--------------------------------\n",
      "Polinômio por Mínimos Quadrados:\n",
      "          2\n",
      "0.6667 x - 2.667 x + 4\n"
     ]
    }
   ],
   "source": [
    "# Impressões\n",
    "print(\"Polinômio por Interpolação (Lagrange):\")\n",
    "print(f\"  {p_interp}\")\n",
    "print(\"\\n--------------------------------\")\n",
    "print(\"Polinômio por Mínimos Quadrados:\")\n",
    "print(f\"  {p_ls}\")"
   ]
  },
  {
   "cell_type": "code",
   "execution_count": 21,
   "id": "3398d23e-bd26-4b99-bb0d-77227cdec327",
   "metadata": {},
   "outputs": [
    {
     "name": "stdout",
     "output_type": "stream",
     "text": [
      "\n",
      "✅ Ambos os métodos geram o mesmo polinômio neste caso, pois há exatamente 3 pontos e o polinômio é de grau 2.\n"
     ]
    }
   ],
   "source": [
    "# Verifica se são praticamente iguais\n",
    "if np.allclose(np.polyval(coefs_ls, x_vals), y_vals):\n",
    "    print(\"\\n✅ Ambos os métodos geram o mesmo polinômio neste caso, pois há exatamente 3 pontos e o polinômio é de grau 2.\")\n",
    "else:\n",
    "    print(\"\\n⚠️ Os métodos geraram polinômios diferentes (normal quando há mais de 3 pontos para grau 2).\")\n"
   ]
  },
  {
   "cell_type": "markdown",
   "id": "9452b3f9-372e-4963-9e30-eb68e4cd69d2",
   "metadata": {},
   "source": [
    "## Discussão das Diferenças e Semelhanças\n",
    "\n",
    "### ✅ Semelhanças:\n",
    "\n",
    "- Ambos os métodos produziram o mesmo polinômio: $$ \\frac{2}{3}x^2 - \\frac{8}{3}x + 4 $$\n",
    "- Isso ocorre porque, com 3 pontos e um polinômio de grau 2, há exatamente uma solução única para um polinômio quadrático que passe por todos os pontos. Tanto a interpolação de Lagrange quanto os mínimos quadrados convergem para essa solução.\n",
    "- Ambos passam exatamente pelos pontos $(0, 4)$, $(3, 2)$ e $(4, 4)$.\n",
    "\n",
    "---\n",
    "\n",
    "### ⚖️ Diferenças:\n",
    "\n",
    "#### 🧮 Método de Cálculo:\n",
    "\n",
    "- **Lagrange**: Usa uma fórmula direta baseada nos polinômios de base de Lagrange, garantindo que o polinômio passe pelos pontos. É um método exato e não envolve minimização de erros.\n",
    "\n",
    "- **Mínimos Quadrados**: Resolve um sistema de equações para minimizar a soma dos quadrados dos erros. Nesse caso, como o número de pontos é igual ao número de parâmetros, o erro é zero, e o resultado coincide com o de Lagrange.\n",
    "\n",
    "---\n",
    "\n",
    "#### 🌍 Aplicação Geral:\n",
    "\n",
    "- Se houvesse mais pontos (por exemplo, 4 ou mais), os métodos poderiam divergir. Lagrange forçaria o polinômio a passar por todos os pontos (aumentando o grau), enquanto mínimos quadrados ajustaria o melhor polinômio quadrático, mas não necessariamente passaria por todos os pontos.\n",
    "\n",
    "---\n",
    "\n",
    "#### ✍️ Escrita:\n",
    "\n",
    "- O polinômio de Lagrange foi dado em frações exatas ($\\frac{2}{3}, \\frac{8}{3}$), enquanto o de mínimos quadrados foi aproximado em decimais ($0.6667$, $2.6667$), mas são matematicamente idênticos.\n"
   ]
  }
 ],
 "metadata": {
  "kernelspec": {
   "display_name": "Python [conda env:base] *",
   "language": "python",
   "name": "conda-base-py"
  },
  "language_info": {
   "codemirror_mode": {
    "name": "ipython",
    "version": 3
   },
   "file_extension": ".py",
   "mimetype": "text/x-python",
   "name": "python",
   "nbconvert_exporter": "python",
   "pygments_lexer": "ipython3",
   "version": "3.12.7"
  }
 },
 "nbformat": 4,
 "nbformat_minor": 5
}
