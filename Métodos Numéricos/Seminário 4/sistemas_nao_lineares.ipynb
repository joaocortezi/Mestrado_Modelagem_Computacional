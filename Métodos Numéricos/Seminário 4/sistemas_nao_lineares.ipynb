{
 "cells": [
  {
   "cell_type": "markdown",
   "id": "008a3298-dbe3-4db3-adcd-674cf142f037",
   "metadata": {},
   "source": [
    "## Problema 2: Resolução de Sistemas Não Lineares"
   ]
  },
  {
   "cell_type": "markdown",
   "id": "337f16c7-cbc3-4d66-b620-cf6e451edba5",
   "metadata": {},
   "source": [
    "# Trabalho No 1: 2025-1\n",
    "Disciplina: Métodos numéricos para equações diferenciais parciais"
   ]
  },
  {
   "cell_type": "markdown",
   "id": "3993dd7c-9545-4e16-a40f-edfe8ba1b0e1",
   "metadata": {},
   "source": [
    "# Problema 2: Resolução de Sistemas Não Lineares\n",
    "O objetivo é encontrar a solução do seguinte sistema de equações não lineares:\n",
    "\n",
    "$$\n",
    "\\begin{aligned}\n",
    "& (x-1)^2 + (y-1)^2 + (z-1)^2 = 1 \\\\\n",
    "& 2x^2 + (y-1)^2 = 4z \\\\\n",
    "& 3x^2 + 2z^2 = 4y\n",
    "\\end{aligned}\n",
    "$$\n",
    "\n",
    "Este sistema será resolvido utilizando os métodos de Newton, Iteração e Gradiente, com critério de parada $\\left|x_i^{k+1} - x_i^k\\right| < 10^{-4}$"
   ]
  },
  {
   "cell_type": "markdown",
   "id": "a91e2366-2644-48ca-9ba8-8a3474d2afe7",
   "metadata": {},
   "source": [
    "# Resolução"
   ]
  },
  {
   "cell_type": "markdown",
   "id": "21a82e58-7d27-4e53-a415-e743d32850a2",
   "metadata": {},
   "source": [
    "## 1. Importação das bibliotecas"
   ]
  },
  {
   "cell_type": "code",
   "execution_count": 7,
   "id": "eb2d8882-2092-485f-9cbf-9379940e9d5f",
   "metadata": {},
   "outputs": [],
   "source": [
    "import numpy as np\n",
    "from numpy.linalg import norm, solve\n",
    "import matplotlib.pyplot as plt\n",
    "from time import time"
   ]
  },
  {
   "cell_type": "markdown",
   "id": "fcb97279-b3b7-4078-979f-c5d26be8347b",
   "metadata": {},
   "source": [
    "## 2. Definição do sistema e explicações teóricas"
   ]
  },
  {
   "cell_type": "markdown",
   "id": "b876f914-7f20-4b1e-a8bc-2e4dfe8d52d1",
   "metadata": {},
   "source": [
    "### 2.1. Sistema F(x, y, z) = 0"
   ]
  },
  {
   "cell_type": "markdown",
   "id": "f1d46fc5-4033-4321-9bc8-50b4fa492c6b",
   "metadata": {},
   "source": [
    "Neste trabalho, queremos encontrar soluções para um sistema não linear da forma $F(x) = 0 $, onde:\n",
    "\n",
    "$$\n",
    "\\mathbf{f}(x, y, z) = \\begin{bmatrix}\n",
    "(x-1)^2 + (y-1)^2 + (z-1)^2 - 1 \\\\\n",
    "2x^2 + (y-1)^2 - 4z \\\\\n",
    "3x^2 + 2z^2 - 4y\n",
    "\\end{bmatrix} = \\mathbf{0}\n",
    "$$"
   ]
  },
  {
   "cell_type": "code",
   "execution_count": 11,
   "id": "252eb274-b23e-497b-bb0a-6f58e16f32f5",
   "metadata": {},
   "outputs": [],
   "source": [
    "def F(v):\n",
    "    x, y, z = v\n",
    "    return np.array([\n",
    "        (x-1)**2 + (y-1)**2 + (z-1)**2 - 1,\n",
    "        2*x**2 + (y-1)**2 - 4*z,\n",
    "        3*x**2 + 2*z**2 - 4*y\n",
    "    ])"
   ]
  },
  {
   "cell_type": "markdown",
   "id": "1c991824-fd33-420a-b3b4-d16529ae2c5b",
   "metadata": {},
   "source": [
    "### 2.2. Jacobiana de F"
   ]
  },
  {
   "cell_type": "markdown",
   "id": "6ed9b28b-fa59-4dc5-b433-4afc4132a67d",
   "metadata": {},
   "source": [
    "A Jacobiana é uma matriz derivada das derivadas parciais de cada equação em relação a cada variável. No método de **Newton** e **Gradiente multivariado**, é usada para calcular direções de correção.\n",
    "\n",
    "$$\n",
    "J(x, y, z) = \\begin{bmatrix}\n",
    "\\frac{\\partial f_1}{\\partial x} & \\frac{\\partial f_1}{\\partial y} & \\frac{\\partial f_1}{\\partial z} \\\\\n",
    "\\frac{\\partial f_2}{\\partial x} & \\frac{\\partial f_2}{\\partial y} & \\frac{\\partial f_2}{\\partial z} \\\\\n",
    "\\frac{\\partial f_3}{\\partial x} & \\frac{\\partial f_3}{\\partial y} & \\frac{\\partial f_3}{\\partial z}\n",
    "\\end{bmatrix}\n",
    "$$"
   ]
  },
  {
   "cell_type": "code",
   "execution_count": 14,
   "id": "4732214f-519e-4e32-a565-80c6a23ee757",
   "metadata": {},
   "outputs": [],
   "source": [
    "def J(v):\n",
    "    x, y, z = v\n",
    "    return np.array([\n",
    "        [2*(x-1), 2*(y-1), 2*(z-1)],\n",
    "        [4*x, 2*(y-1), -4],\n",
    "        [6*x, -4, 4*z]\n",
    "    ])"
   ]
  },
  {
   "cell_type": "markdown",
   "id": "a33d0734-da57-4d7b-b600-71ba851aa19f",
   "metadata": {},
   "source": [
    "### 2.3. Método de Newton"
   ]
  },
  {
   "cell_type": "markdown",
   "id": "3f2fa350-73d2-43a2-abb2-6ad9ed7a313f",
   "metadata": {},
   "source": [
    "O método de Newton multivariado busca iterativamente uma raiz de $F(x) = 0$, resolvendo o sistema linear:\n",
    "$ J(x_k) \\cdot \\Delta x = -F(x_k) \\quad \\text{e depois:} \\quad x_{k+1} = x_k + \\Delta x $"
   ]
  },
  {
   "cell_type": "code",
   "execution_count": 17,
   "id": "508e48f7-5e24-426f-8c16-14f8adcddde9",
   "metadata": {},
   "outputs": [],
   "source": [
    "def newton(v0):\n",
    "    xk = v0.copy()\n",
    "    history = []\n",
    "    t0 = time()\n",
    "    for _ in range(100):\n",
    "        Jk = J(xk)\n",
    "        try:\n",
    "            delta = np.linalg.lstsq(Jk, -F(xk), rcond=None)[0]\n",
    "        except np.linalg.LinAlgError:\n",
    "            print(\"Erro: Jacobiana singular.\")\n",
    "            break\n",
    "        xk1 = xk + delta\n",
    "        err = norm(xk1 - xk, ord=np.inf)\n",
    "        history.append(err)\n",
    "        if err < 1e-4:\n",
    "            break\n",
    "        xk = xk1\n",
    "    return xk, history, time() - t0"
   ]
  },
  {
   "cell_type": "markdown",
   "id": "fb94125c-fc23-452d-832d-ff08d5282f9a",
   "metadata": {},
   "source": [
    "### 2.4. Método Iterativo de Ponto Fixo"
   ]
  },
  {
   "cell_type": "markdown",
   "id": "9c036159-37e0-45fa-8e87-94530a01197b",
   "metadata": {},
   "source": [
    "Para aplicar o método iterativo, reescrevemos o sistema como $x = G(x)$. Isso exige encontrar uma forma adequada para a função $G$."
   ]
  },
  {
   "cell_type": "code",
   "execution_count": 20,
   "id": "20c39f5f-f81f-4e5b-908e-a6dfce977e35",
   "metadata": {},
   "outputs": [],
   "source": [
    "def G(v):\n",
    "    x, y, z = v\n",
    "    try:\n",
    "        gx = np.sqrt(max(1e-8, 1 - (y-1)**2 - (z-1)**2)) + 1  # prevenção de valores negativos e instabilidade\n",
    "    except RuntimeWarning:\n",
    "        gx = 1.0  # fallback seguro\n",
    "    gy = min(1e6, (3*x**2 + 2*z**2)/4)\n",
    "    gz = min(1e6, (2*x**2 + (y-1)**2)/4)\n",
    "    return np.array([gx, gy, gz])\n",
    "\n",
    "def fixed_point(v0):\n",
    "    xk = v0.copy()\n",
    "    history = []\n",
    "    t0 = time()\n",
    "    for _ in range(100):\n",
    "        xk1 = G(xk)\n",
    "        if np.any(np.isnan(xk1)) or np.any(np.isinf(xk1)):\n",
    "            print(\"Overflow ou valor inválido detectado. Encerrando método de ponto fixo.\")\n",
    "            break\n",
    "        err = norm(xk1 - xk, ord=np.inf)\n",
    "        history.append(err)\n",
    "        if err < 1e-4:\n",
    "            break\n",
    "        xk = xk1\n",
    "    return xk, history, time() - t0"
   ]
  },
  {
   "cell_type": "markdown",
   "id": "7ee56457-5e89-42a5-90ab-4eb500bca47b",
   "metadata": {},
   "source": [
    "### 2.5. Método do Gradiente (descendente)"
   ]
  },
  {
   "cell_type": "markdown",
   "id": "536fa727-f1d6-4446-bde5-9458b268f1a5",
   "metadata": {},
   "source": [
    "Esse método busca minimizar a função $f(x) = \\|F(x)\\|^2$. O gradiente dessa função é dado por: $\\nabla f(x) = 2 J(x)^T F(x)$.\n",
    "\n",
    "O passo iterativo é: $x_{k+1} = x_k - \\alpha \\nabla f(x_k)$"
   ]
  },
  {
   "cell_type": "code",
   "execution_count": 23,
   "id": "d776945f-1f7a-474e-8902-7f8b0b1c2be4",
   "metadata": {},
   "outputs": [],
   "source": [
    "def gradient_method(v0, alpha=1e-3):\n",
    "    xk = v0.copy()\n",
    "    history = []\n",
    "    t0 = time()\n",
    "    for _ in range(100):\n",
    "        grad = 2 * J(xk).T @ F(xk)\n",
    "        xk1 = xk - alpha * grad\n",
    "        err = norm(xk1 - xk, ord=np.inf)\n",
    "        history.append(err)\n",
    "        if err < 1e-4:\n",
    "            break\n",
    "        xk = xk1\n",
    "    return xk, history, time() - t0"
   ]
  },
  {
   "cell_type": "markdown",
   "id": "11d96c29-5bdf-4475-ad54-1dd5df0bcd74",
   "metadata": {},
   "source": [
    "## 3. Execução dos métodos e comparação de desempenho"
   ]
  },
  {
   "cell_type": "code",
   "execution_count": 25,
   "id": "0f93e073-5eea-43c2-9620-9fe9bc1967da",
   "metadata": {},
   "outputs": [],
   "source": [
    "x0 = np.array([1.1, 1.1, 1.1])\n",
    "\n",
    "res_newton, hist_newton, t_newton = newton(x0)\n",
    "res_grad, hist_grad, t_grad = gradient_method(x0)\n",
    "res_fixed, hist_fixed, t_fixed = fixed_point(x0)"
   ]
  },
  {
   "cell_type": "markdown",
   "id": "1bcdf497-67c0-4c2c-939c-b0e3da1faa5e",
   "metadata": {},
   "source": [
    "## 4. Visualização gráfica dos erros"
   ]
  },
  {
   "cell_type": "code",
   "execution_count": 27,
   "id": "da0251ba-5660-4f36-bc2f-7c0f0d7e8c3f",
   "metadata": {},
   "outputs": [
    {
     "data": {
      "image/png": "[encoded data removed]",
      "text/plain": [
       "<Figure size 1000x600 with 1 Axes>"
      ]
     },
     "metadata": {},
     "output_type": "display_data"
    }
   ],
   "source": [
    "plt.figure(figsize=(10, 6))\n",
    "plt.plot(hist_newton, label='Newton')\n",
    "plt.plot(hist_grad, label='Gradiente')\n",
    "plt.plot(hist_fixed, label='Ponto Fixo')\n",
    "plt.yscale('log')\n",
    "plt.xlabel('Iterações')\n",
    "plt.ylabel('Erro (norma infinito)')\n",
    "plt.title('Convergência dos Métodos')\n",
    "plt.grid(True)\n",
    "plt.legend()\n",
    "plt.savefig(\"convergencia_metodos.png\")\n",
    "plt.show()"
   ]
  },
  {
   "cell_type": "markdown",
   "id": "b72ac78f-8f86-4f09-b468-7a35141c4f99",
   "metadata": {},
   "source": [
    "#### 📊 Interpretação do gráfico de erro (log escala)\n",
    "\n",
    "- **Newton** (azul): convergência super-rápida e precisa. Ideal para esse sistema.\n",
    "- **Gradiente** (laranja): convergência suave e lenta. Pode ser ajustado com melhor $\\alpha$ .\n",
    "- **Ponto Fixo** (verde): instável, divergiu rapidamente. A escolha de $G(x)$ precisa ser reformulada.\n",
    "\n",
    "Recomendação final: **usar o método de Newton** como principal abordagem para esse sistema não linear. O método do gradiente pode servir como alternativa robusta com ajuste de parâmetros. O ponto fixo deve ser evitado neste caso."
   ]
  },
  {
   "cell_type": "markdown",
   "id": "06666d27-4b97-4c1c-8c2a-971c1dd69d8b",
   "metadata": {},
   "source": [
    "## 5. Resultados finais"
   ]
  },
  {
   "cell_type": "code",
   "execution_count": 30,
   "id": "73fdf9aa-f167-4e12-9d54-0a929851044f",
   "metadata": {},
   "outputs": [
    {
     "name": "stdout",
     "output_type": "stream",
     "text": [
      "Soluções aproximadas:\n",
      "Newton       : [1.33041952 1.93797998 1.10495965] (tempo: 0.0003s)\n",
      "Gradiente    : [1.18938452 1.32103734 0.70562596] (tempo: 0.0009s)\n",
      "Ponto Fixo   : [1.0001e+00 1.0000e+06 1.0000e+06] (tempo: 0.0001s)\n"
     ]
    }
   ],
   "source": [
    "print(\"Soluções aproximadas:\")\n",
    "print(f\"Newton       : {res_newton} (tempo: {t_newton:.4f}s)\")\n",
    "print(f\"Gradiente    : {res_grad} (tempo: {t_grad:.4f}s)\")\n",
    "print(f\"Ponto Fixo   : {res_fixed} (tempo: {t_fixed:.4f}s)\")"
   ]
  },
  {
   "cell_type": "markdown",
   "id": "85516628-a19a-4462-b081-4e5dcf5101c3",
   "metadata": {},
   "source": [
    "## 6. Conclusões"
   ]
  },
  {
   "cell_type": "markdown",
   "id": "a2cfe913-ad98-4f63-a6df-a2668d3b96bf",
   "metadata": {},
   "source": [
    "- O método de Gradiente pode oscilar se o passo $\\alpha$ for inadequado.\n",
    "- O Ponto Fixo depende fortemente da forma de $G(x)$, e pode divergir se mal definido."
   ]
  },
  {
   "cell_type": "code",
   "execution_count": null,
   "id": "6cb4a219-e9b0-4bc9-a7d5-569e69a9a223",
   "metadata": {},
   "outputs": [],
   "source": []
  }
 ],
 "metadata": {
  "kernelspec": {
   "display_name": "Python [conda env:base] *",
   "language": "python",
   "name": "conda-base-py"
  },
  "language_info": {
   "codemirror_mode": {
    "name": "ipython",
    "version": 3
   },
   "file_extension": ".py",
   "mimetype": "text/x-python",
   "name": "python",
   "nbconvert_exporter": "python",
   "pygments_lexer": "ipython3",
   "version": "3.12.7"
  }
 },
 "nbformat": 4,
 "nbformat_minor": 5
}
